{
  "nbformat": 4,
  "nbformat_minor": 0,
  "metadata": {
    "colab": {
      "name": "first colab notebook.ipynb",
      "provenance": [],
      "authorship_tag": "ABX9TyNcXfAAB5eJEa/isr4vuphg",
      "include_colab_link": true
    },
    "kernelspec": {
      "name": "python3",
      "display_name": "Python 3"
    },
    "language_info": {
      "name": "python"
    }
  },
  "cells": [
    {
      "cell_type": "markdown",
      "metadata": {
        "id": "view-in-github",
        "colab_type": "text"
      },
      "source": [
        "<a href=\"https://colab.research.google.com/github/krishnayaduvanshi26/colab-introduction/blob/main/first_colab_notebook.ipynb\" target=\"_parent\"><img src=\"https://colab.research.google.com/assets/colab-badge.svg\" alt=\"Open In Colab\"/></a>"
      ]
    },
    {
      "cell_type": "markdown",
      "metadata": {
        "id": "bzvv64Dh9ftI"
      },
      "source": [
        "# Learning about Google Colab"
      ]
    },
    {
      "cell_type": "markdown",
      "metadata": {
        "id": "FISdMjhN-U4g"
      },
      "source": [
        "## Table of content\n",
        "1. Connecting drive\n",
        "- Added to google drive\n",
        "- Verfied\n",
        "2. Importing Libraries\n",
        "- Added numpy\n",
        "- Added pandas\n",
        "- Added Sklearn \n"
      ]
    },
    {
      "cell_type": "markdown",
      "metadata": {
        "id": "D7XhWNCz9nmU"
      },
      "source": [
        "## Connecting drive"
      ]
    },
    {
      "cell_type": "code",
      "metadata": {
        "colab": {
          "base_uri": "https://localhost:8080/"
        },
        "id": "msG-BfuB7nEi",
        "outputId": "3823e121-e139-469e-e127-7b50a8f3f614"
      },
      "source": [
        "from google.colab import drive\n",
        "drive.mount('/content/drive')"
      ],
      "execution_count": null,
      "outputs": [
        {
          "output_type": "stream",
          "name": "stdout",
          "text": [
            "Mounted at /content/drive\n"
          ]
        }
      ]
    },
    {
      "cell_type": "code",
      "metadata": {
        "colab": {
          "base_uri": "https://localhost:8080/"
        },
        "id": "7drBU7kY8XCR",
        "outputId": "f6acf788-3a69-42eb-c416-7bd151c5d8de"
      },
      "source": [
        "%cd '/content/drive/MyDrive/cola notebook'"
      ],
      "execution_count": null,
      "outputs": [
        {
          "output_type": "stream",
          "name": "stdout",
          "text": [
            "/content/drive/MyDrive/cola notebook\n"
          ]
        }
      ]
    },
    {
      "cell_type": "code",
      "metadata": {
        "colab": {
          "base_uri": "https://localhost:8080/"
        },
        "id": "dZpRE_EC8wwx",
        "outputId": "93573f4a-249f-47a5-e157-f180823a9ec1"
      },
      "source": [
        "ls"
      ],
      "execution_count": null,
      "outputs": [
        {
          "output_type": "stream",
          "name": "stdout",
          "text": [
            "Untitled0.ipynb\n"
          ]
        }
      ]
    },
    {
      "cell_type": "markdown",
      "metadata": {
        "id": "m_-ftgaB9CIZ"
      },
      "source": [
        "## Importing Libraries"
      ]
    },
    {
      "cell_type": "code",
      "metadata": {
        "id": "rbEiTfdK8xCo"
      },
      "source": [
        "import numpy as np\n",
        "import pandas as pd\n",
        "import sklearn"
      ],
      "execution_count": null,
      "outputs": []
    }
  ]
}